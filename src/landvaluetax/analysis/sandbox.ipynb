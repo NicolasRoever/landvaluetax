{
 "cells": [
  {
   "cell_type": "code",
   "execution_count": null,
   "id": "0",
   "metadata": {},
   "outputs": [],
   "source": [
    "import pandas as pd\n",
    "import matplotlib.pyplot as plt\n",
    "import statsmodels.formula.api as smf\n",
    "import numpy as np"
   ]
  },
  {
   "cell_type": "code",
   "execution_count": null,
   "id": "1",
   "metadata": {},
   "outputs": [],
   "source": [
    "df = pd.read_csv(\"/Users/nicolasroever/Dropbox/Promotion/LVT/landvaluetax/bld/data/merged_estonia_eurostat.csv\")"
   ]
  },
  {
   "cell_type": "code",
   "execution_count": null,
   "id": "2",
   "metadata": {},
   "outputs": [],
   "source": [
    "df['average_price_per_sqm'] = pd.to_numeric(df['average_price_per_sqm'], errors='coerce')\n",
    "df['general_rate'] = pd.to_numeric(df['general_rate'], errors='coerce')\n",
    "df[\"ln_avg_price_per_sqm\"] = df[\"average_price_per_sqm\"].apply(lambda x: np.log(x) if x > 0 else np.nan)"
   ]
  },
  {
   "cell_type": "code",
   "execution_count": null,
   "id": "3",
   "metadata": {},
   "outputs": [],
   "source": [
    "# Summary statistics\n",
    "summary = df[['average_price_per_sqm', 'general_rate']].describe()\n",
    "\n",
    "# Time series aggregation by year_quarter (sorted)\n",
    "ts = df.groupby(['year', 'year_quarter'])[['average_price_per_sqm', 'general_rate', 'HPI']] \\\n",
    "       .mean(numeric_only=True).reset_index().sort_values(['year', 'year_quarter'])\n",
    "\n",
    "\n",
    "# Scatter plot: average_price_per_sqm vs. general_rate\n",
    "plt.figure()\n",
    "plt.scatter(df['general_rate'], df['average_price_per_sqm'])\n",
    "plt.xlabel('General Rate')\n",
    "plt.ylabel('Average Price per sqm')\n",
    "plt.title('Scatter: Avg Price per sqm vs General Rate')\n",
    "plt.tight_layout()\n",
    "plt.show()\n",
    "\n",
    "# Time series plot: average_price_per_sqm over quarters\n",
    "fig, ax1 = plt.subplots()\n",
    "ax1.plot(ts['year_quarter'], ts['average_price_per_sqm'], color='tab:blue', label='Avg Price per sqm')\n",
    "ax1.set_xlabel('Year-Quarter')\n",
    "ax1.set_ylabel('Mean Avg Price per sqm', color='tab:blue')\n",
    "ax1.tick_params(axis='y', labelcolor='tab:blue')\n",
    "ax1.set_xticklabels(ts['year_quarter'], rotation=45, ha='right')\n",
    "\n",
    "ax2 = ax1.twinx()\n",
    "ax2.plot(ts['year_quarter'], ts['HPI'], color='tab:orange', label='HPI', linestyle='--')\n",
    "ax2.set_ylabel('HPI', color='tab:orange')\n",
    "ax2.tick_params(axis='y', labelcolor='tab:orange')\n",
    "\n",
    "plt.title('Time Series: Mean Avg Price per sqm & HPI by Quarter')\n",
    "fig.tight_layout()\n",
    "plt.show()\n",
    "\n",
    "# Time series plot: general_rate over quarters\n",
    "plt.figure()\n",
    "plt.plot(ts['year_quarter'], ts['general_rate'])\n",
    "plt.xlabel('Year-Quarter')\n",
    "plt.ylabel('Mean General Rate')\n",
    "plt.title('Time Series: Mean General Rate by Quarter')\n",
    "plt.xticks(rotation=45, ha='right')\n",
    "plt.tight_layout()\n",
    "plt.show()"
   ]
  },
  {
   "cell_type": "code",
   "execution_count": null,
   "id": "4",
   "metadata": {},
   "outputs": [],
   "source": [
    "# Create year_quarter if not present\n",
    "if 'year_quarter' not in df.columns and 'year' in df.columns and 'quarter' in df.columns:\n",
    "    df['year_quarter'] = df['year'].astype(str) + ' ' + df['quarter']\n",
    "\n",
    "# Define mapping for Roman numerals to order\n",
    "roman_map = {'I':1, 'II':2, 'III':3, 'IV':4}\n",
    "\n",
    "# Extract and order the quarters chronologically\n",
    "unique_q = df['year_quarter'].dropna().unique()\n",
    "order = sorted(unique_q, key=lambda x: (int(x.split()[0]), roman_map.get(x.split()[1], 0)))\n",
    "\n",
    "# Convert to categorical with ordered quarters\n",
    "df['year_quarter'] = pd.Categorical(df['year_quarter'], categories=order, ordered=True)\n",
    "\n",
    "# Plot scatter of all observations\n",
    "# Add random noise to general_rate for visualization\n",
    "np.random.seed(42)\n",
    "noise = np.random.normal(0, 0.03, size=len(df))\n",
    "plt.figure(figsize=(12, 6))\n",
    "plt.scatter(df['year_quarter'], df['general_rate'] + noise, alpha=0.6)\n",
    "plt.xlabel('Year-Quarter')\n",
    "plt.ylabel('General Rate (with noise)')\n",
    "plt.title('Scatter: General Rate by Quarter (All Observations, Noisy)')\n",
    "plt.xticks(rotation=45, ha='right')\n",
    "plt.tight_layout()\n",
    "plt.show()"
   ]
  },
  {
   "cell_type": "code",
   "execution_count": null,
   "id": "5",
   "metadata": {},
   "outputs": [],
   "source": [
    "# Parse year and quarter from year_quarter column\n",
    "roman_to_int = {'I': 1, 'II': 2, 'III': 3, 'IV': 4}\n",
    "month_map = {1: 1, 2: 4, 3: 7, 4: 10}\n",
    "\n",
    "df['year_quarter'] = df['year_quarter'].astype(str)\n",
    "parts = df['year_quarter'].str.split()\n",
    "df['year'] = parts.str[0].astype(int)\n",
    "df['quarter_str'] = parts.str[1]\n",
    "df['quarter_num'] = df['quarter_str'].map(roman_to_int)\n",
    "df['month'] = df['quarter_num'].map(month_map)\n",
    "df['quarter_start'] = pd.to_datetime(dict(year=df['year'], month=df['month'], day=1))\n",
    "\n",
    "# Plot all municipalities in grey\n",
    "plt.figure(figsize=(12, 6))\n",
    "for mun, group in df.groupby('municipality'):\n",
    "    grp = group.sort_values('quarter_start')\n",
    "    plt.plot(grp['quarter_start'], grp['general_rate'], color='grey', linewidth=0.5, alpha=0.6)\n",
    "\n",
    "plt.xlabel('Quarter')\n",
    "plt.ylabel('General Rate')\n",
    "plt.title('General Rate Time Series by Municipality')\n",
    "plt.tight_layout()\n",
    "plt.show()"
   ]
  },
  {
   "cell_type": "code",
   "execution_count": null,
   "id": "6",
   "metadata": {},
   "outputs": [],
   "source": [
    "# Fixed effects regressions\n",
    "model_simple = smf.ols('ln_avg_price_per_sqm ~ general_rate + HPI + C(municipality)', data=df).fit()\n",
    "print(model_simple.summary())\n",
    "model_both = smf.ols('ln_avg_price_per_sqm ~ general_rate + C(municipality) + C(county) + C(house_type) + HPI', data=df).fit()\n",
    "print(model_both.summary())"
   ]
  }
 ],
 "metadata": {
  "language_info": {
   "codemirror_mode": {
    "name": "ipython",
    "version": 3
   },
   "file_extension": ".py",
   "mimetype": "text/x-python",
   "name": "python",
   "nbconvert_exporter": "python",
   "pygments_lexer": "ipython3"
  }
 },
 "nbformat": 4,
 "nbformat_minor": 5
}
