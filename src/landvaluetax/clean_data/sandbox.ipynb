{
 "cells": [
  {
   "cell_type": "code",
   "execution_count": null,
   "id": "0",
   "metadata": {},
   "outputs": [],
   "source": [
    "import re\n",
    "from pathlib import Path\n",
    "import pandas as pd\n",
    "import pdb"
   ]
  },
  {
   "cell_type": "code",
   "execution_count": null,
   "id": "1",
   "metadata": {},
   "outputs": [],
   "source": [
    "data_folder = Path(\"/Users/nicolasroever/Dropbox/Promotion/LVT/landvaluetax/src/landvaluetax/data/raw_data_res_land\")"
   ]
  },
  {
   "cell_type": "code",
   "execution_count": null,
   "id": "2",
   "metadata": {},
   "outputs": [],
   "source": [
    "all_dfs = []"
   ]
  },
  {
   "cell_type": "code",
   "execution_count": null,
   "id": "3",
   "metadata": {},
   "outputs": [],
   "source": [
    "for file_path in data_folder.glob(\"*.xlsx\"):\n",
    "    # --- a) Read the transaction_type (first row, first cell) ---\n",
    "    transaction_type = pd.read_excel(file_path, header=None, nrows=1).iloc[0, 0]\n",
    "\n",
    "    # --- b) Read the info string (second row, first cell) ---\n",
    "    info_str = pd.read_excel(file_path, header=None, skiprows=1, nrows=1).iloc[0, 0]\n",
    "    # e.g. \"Harju maakond, Anija vald on time period 9/1/2021 and 9/30/2021\"\n",
    "    m = re.match(\n",
    "        r\"^(?P<county>[^,]+),\\s*(?P<municipality>.+?)\\s+on time period\\s+\"\n",
    "        r\"(?P<start>\\d{1,2}/\\d{1,2}/\\d{4})\\s+and\\s+(?P<end>\\d{1,2}/\\d{1,2}/\\d{4})\",\n",
    "        info_str,\n",
    "    )\n",
    "    if not m:\n",
    "        raise ValueError(f\"Unrecognized info format in {file_path}: {info_str!r}\")\n",
    "\n",
    "    county = m.group(\"county\")\n",
    "    municipality = m.group(\"municipality\")\n",
    "    # extract month and year from the start date\n",
    "    start_month, _, start_year = m.group(\"start\").split(\"/\")\n",
    "\n",
    "    # --- c) Read the data table starting at row 7 (skip 6 rows) ---\n",
    "    raw = pd.read_excel(file_path, header=None, skiprows=6)\n",
    "    # drop everything at and after the first blank row\n",
    "    blank_idx = raw[raw.isna().all(axis=1)].index\n",
    "    if len(blank_idx):\n",
    "        raw = raw.loc[: blank_idx[0] - 1]\n",
    "\n",
    "    # assign your column names\n",
    "    raw.columns = [\n",
    "        'house_type',\n",
    "        \"number_trans\",\n",
    "        \"average_sqm\",\n",
    "        \"total_price\",\n",
    "        \"min_price\",\n",
    "        \"max_price\",\n",
    "        \"min_price_per_sqm\",\n",
    "        \"max_price_per_sqm\",\n",
    "        \"median_price_per_sqm\",\n",
    "        \"average_price_per_sqm\",\n",
    "        \"sd_price_per_sqm\",\n",
    "    ]\n",
    "\n",
    "    # --- d) Add the metadata columns ---\n",
    "    raw[\"transaction_type\"] = transaction_type\n",
    "    raw[\"county\"] = county\n",
    "    raw[\"municipality\"] = municipality\n",
    "    raw[\"month\"] = int(start_month)\n",
    "    raw[\"year\"] = int(start_year)\n",
    "\n",
    "    # collect\n",
    "    all_dfs.append(raw)\n",
    "\n",
    "# 4) Concatenate all into one big DataFrame\n",
    "result = pd.concat(all_dfs, ignore_index=True)"
   ]
  },
  {
   "cell_type": "code",
   "execution_count": null,
   "id": "4",
   "metadata": {},
   "outputs": [],
   "source": [
    "result.head()"
   ]
  }
 ],
 "metadata": {
  "language_info": {
   "codemirror_mode": {
    "name": "ipython",
    "version": 3
   },
   "file_extension": ".py",
   "mimetype": "text/x-python",
   "name": "python",
   "nbconvert_exporter": "python",
   "pygments_lexer": "ipython3"
  }
 },
 "nbformat": 4,
 "nbformat_minor": 5
}
