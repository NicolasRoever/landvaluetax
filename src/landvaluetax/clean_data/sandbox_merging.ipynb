{
 "cells": [
  {
   "cell_type": "code",
   "execution_count": null,
   "id": "0",
   "metadata": {},
   "outputs": [],
   "source": [
    "import pandas as pd"
   ]
  },
  {
   "cell_type": "markdown",
   "id": "1",
   "metadata": {},
   "source": [
    "# Merge EUROSTAT to merged"
   ]
  },
  {
   "cell_type": "code",
   "execution_count": null,
   "id": "2",
   "metadata": {},
   "outputs": [],
   "source": [
    "merged = pd.read_csv(\"/Users/nicolasroever/Dropbox/Promotion/LVT/landvaluetax/bld/data/merged_rates_prices.csv\")"
   ]
  },
  {
   "cell_type": "code",
   "execution_count": null,
   "id": "3",
   "metadata": {},
   "outputs": [],
   "source": [
    "eurostat = pd.read_csv(\"/Users/nicolasroever/Dropbox/Promotion/LVT/landvaluetax/bld/data/eurostat_hpi.csv\")\n",
    "\n",
    "eurostat_filter = eurostat[eurostat[\"country\"] == \"European Union (EU6-1958, EU9-1973, EU10-1981, EU12-1986, EU15-1995, EU25-2004, EU27-2007, EU28-2013, EU27-2020)\"]"
   ]
  },
  {
   "cell_type": "code",
   "execution_count": null,
   "id": "4",
   "metadata": {},
   "outputs": [],
   "source": [
    "merge_final = pd.merge(\n",
    "    merged,\n",
    "    eurostat_filter,\n",
    "    left_on=[\"year\", \"quarter_num\"],\n",
    "    right_on=[\"year\", \"quarter\"],\n",
    "    how=\"left\",\n",
    "    validate=\"many_to_one\"\n",
    ")\n",
    "\n",
    "merge_final = merge_final.rename(columns={\"country\": \"country_hpi\"})"
   ]
  },
  {
   "cell_type": "code",
   "execution_count": null,
   "id": "5",
   "metadata": {},
   "outputs": [],
   "source": [
    "# 1. Read the two CSVs\n",
    "prices = pd.read_csv(\"/Users/nicolasroever/Dropbox/Promotion/LVT/landvaluetax/bld/data/quarterly_prices_res_land.csv\")\n",
    "rates  = pd.read_csv(\"/Users/nicolasroever/Dropbox/Promotion/LVT/landvaluetax/bld/data/lvt_rates.csv\")\n"
   ]
  },
  {
   "cell_type": "code",
   "execution_count": null,
   "id": "6",
   "metadata": {},
   "outputs": [],
   "source": [
    "# 2. Normalize the municipality column in both DataFrames\n",
    "prices[\"municipality\"] = (\n",
    "    prices[\"municipality\"]\n",
    "    .astype(str)            # ensure it’s string dtype\n",
    "    .str.strip()            # remove leading/trailing spaces\n",
    "    .str.lower()           # optionally lowercase if casing mismatches\n",
    ")\n",
    "\n",
    "prices[\"year\"] = prices[\"year_quarter\"].str.split(\" \").str[0].astype(str)  # ensure year is string for consistency\n"
   ]
  },
  {
   "cell_type": "code",
   "execution_count": null,
   "id": "7",
   "metadata": {},
   "outputs": [],
   "source": [
    "rates[\"municipality_name\"] = (\n",
    "    rates[\"municipality_name\"]\n",
    "    .astype(str)            # ensure it’s string dtype\n",
    "    .str.strip()            # remove leading/trailing spaces\n",
    "    .str.lower()           # optionally lowercase if casing mismatches\n",
    ")\n",
    "\n",
    "rates[\"year\"] = rates[\"year\"].astype(str)  # ensure year is string for consistency\n"
   ]
  },
  {
   "cell_type": "code",
   "execution_count": null,
   "id": "8",
   "metadata": {},
   "outputs": [],
   "source": [
    "# 3. Merge on municipality\n",
    "\n",
    "print(prices.shape)\n",
    "merged = pd.merge(\n",
    "    prices,\n",
    "    rates,\n",
    "    left_on=[\"municipality\", \"year\"],\n",
    "    right_on=[\"municipality_name\", \"year\"],\n",
    "    how=\"inner\",    # use \"left\" or \"outer\" if you want different join behavior\n",
    "    validate=\"many_to_one\"  # or \"many_to_one\" / \"one_to_many\" as fits your data\n",
    ")\n",
    "\n",
    "\n",
    "print(merged.shape)\n",
    "\n"
   ]
  },
  {
   "cell_type": "code",
   "execution_count": null,
   "id": "9",
   "metadata": {},
   "outputs": [],
   "source": [
    "# 4. Inspect & write out\n",
    "print(merged.head())"
   ]
  },
  {
   "cell_type": "code",
   "execution_count": null,
   "id": "10",
   "metadata": {},
   "outputs": [],
   "source": [
    "merged.to_csv(\"/Users/nicolasroever/Dropbox/Promotion/LVT/landvaluetax/bld/data/merged_data.csv\")"
   ]
  },
  {
   "cell_type": "code",
   "execution_count": null,
   "id": "11",
   "metadata": {},
   "outputs": [],
   "source": []
  }
 ],
 "metadata": {
  "language_info": {
   "codemirror_mode": {
    "name": "ipython",
    "version": 3
   },
   "file_extension": ".py",
   "mimetype": "text/x-python",
   "name": "python",
   "nbconvert_exporter": "python",
   "pygments_lexer": "ipython3"
  }
 },
 "nbformat": 4,
 "nbformat_minor": 5
}
