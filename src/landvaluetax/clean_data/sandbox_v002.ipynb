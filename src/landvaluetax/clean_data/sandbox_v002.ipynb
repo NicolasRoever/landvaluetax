{
 "cells": [
  {
   "cell_type": "code",
   "execution_count": null,
   "id": "0",
   "metadata": {},
   "outputs": [],
   "source": [
    "import re\n",
    "from pathlib import Path\n",
    "import pandas as pd\n",
    "import pdb"
   ]
  },
  {
   "cell_type": "markdown",
   "id": "1",
   "metadata": {},
   "source": [
    "#Cle"
   ]
  },
  {
   "cell_type": "code",
   "execution_count": null,
   "id": "2",
   "metadata": {},
   "outputs": [],
   "source": [
    "data_folder = Path(\"/Users/nicolasroever/Dropbox/Promotion/LVT/landvaluetax/src/landvaluetax/data/raw_data_res_land_quarter\")"
   ]
  },
  {
   "cell_type": "code",
   "execution_count": null,
   "id": "3",
   "metadata": {},
   "outputs": [],
   "source": [
    "test = pd.read_excel(\"/Users/nicolasroever/Dropbox/Promotion/LVT/landvaluetax/src/landvaluetax/data/raw_data_res_land_quarter/Real property price statistics (34).xlsx\")"
   ]
  },
  {
   "cell_type": "code",
   "execution_count": null,
   "id": "4",
   "metadata": {},
   "outputs": [],
   "source": [
    "all_dfs = []"
   ]
  },
  {
   "cell_type": "code",
   "execution_count": null,
   "id": "5",
   "metadata": {},
   "outputs": [],
   "source": [
    "i = 0\n",
    "for file_path in data_folder.glob(\"*.xlsx\"):\n",
    "    i += 1\n",
    "    print(f\"Processing file {i}: {file_path.name}\")\n",
    "\n",
    "\n",
    "    # --- a) Read the transaction_type (first row, first cell) ---\n",
    "    transaction_type = pd.read_excel(file_path, header=None, nrows=1).iloc[0, 0]\n",
    "\n",
    "    # --- b) Read the info string (second row, first cell) ---\n",
    "    info_str = pd.read_excel(file_path, header=None, skiprows=1, nrows=1).iloc[0, 0]\n",
    "\n",
    "    parts = info_str.split(\",\", 1)\n",
    "    county, municipality = parts[0].strip(), parts[1].strip()\n",
    "\n",
    "    # --- c) Read the data table starting at row 7 (skip 6 rows) ---\n",
    "    raw = pd.read_excel(file_path, header=None, skiprows=6)\n",
    "    # drop everything at and after the first blank row\n",
    "    blank_idx = raw[raw.isna().all(axis=1)].index\n",
    "    if len(blank_idx):\n",
    "        raw = raw.loc[: blank_idx[0] - 1]\n",
    "\n",
    "    # assign your column names\n",
    "    raw.columns = [\n",
    "        'year_quarter',\n",
    "        'house_type',\n",
    "        \"number_trans\",\n",
    "        \"average_sqm\",\n",
    "        \"total_price\",\n",
    "        \"min_price\",\n",
    "        \"max_price\",\n",
    "        \"min_price_per_sqm\",\n",
    "        \"max_price_per_sqm\",\n",
    "        \"median_price_per_sqm\",\n",
    "        \"average_price_per_sqm\",\n",
    "        \"sd_price_per_sqm\",\n",
    "    ]\n",
    "\n",
    "    # --- d) Add the metadata columns ---\n",
    "    raw[\"county\"] = county\n",
    "    raw[\"municipality\"] = municipality\n",
    "\n",
    "\n",
    "    # collect\n",
    "    all_dfs.append(raw)\n",
    "\n",
    "# 4) Concatenate all into one big DataFrame\n",
    "result = pd.concat(all_dfs, ignore_index=True)"
   ]
  },
  {
   "cell_type": "code",
   "execution_count": null,
   "id": "6",
   "metadata": {},
   "outputs": [],
   "source": [
    "result.head()"
   ]
  },
  {
   "cell_type": "code",
   "execution_count": null,
   "id": "7",
   "metadata": {},
   "outputs": [],
   "source": [
    "result.to_csv(\"/Users/nicolasroever/Dropbox/Promotion/LVT/landvaluetax/bld/data/quarterly_prices_res_land.csv\", index=False)"
   ]
  }
 ],
 "metadata": {
  "language_info": {
   "codemirror_mode": {
    "name": "ipython",
    "version": 3
   },
   "file_extension": ".py",
   "mimetype": "text/x-python",
   "name": "python",
   "nbconvert_exporter": "python",
   "pygments_lexer": "ipython3"
  }
 },
 "nbformat": 4,
 "nbformat_minor": 5
}
