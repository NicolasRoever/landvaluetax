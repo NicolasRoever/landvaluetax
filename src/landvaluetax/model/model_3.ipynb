{
 "cells": [
  {
   "cell_type": "code",
   "execution_count": null,
   "id": "0",
   "metadata": {},
   "outputs": [],
   "source": [
    "import numpy as np\n",
    "import optimagic as om\n",
    "from model import *"
   ]
  },
  {
   "cell_type": "code",
   "execution_count": null,
   "id": "1",
   "metadata": {},
   "outputs": [],
   "source": [
    "# -----------------------\n",
    "# 1. Parameters\n",
    "# -----------------------\n",
    "beta = 0.95\n",
    "c = 0.5  # per-occupant cost\n",
    "kappa = 0.0\n",
    "delta_b = 0.8\n",
    "ubar = 0.9  # outside option / minimum utility\n",
    "G = 10\n",
    "Ncells = G * G\n",
    "seed = 56"
   ]
  },
  {
   "cell_type": "code",
   "execution_count": null,
   "id": "2",
   "metadata": {},
   "outputs": [],
   "source": [
    "init_pop = init_population_matrix(shape=(G, G), seed=seed)\n",
    "init_site_value = calculate_site_values(init_pop)\n",
    "plot_pop_matrix(init_pop, title=\"Initial Population Distribution\")\n",
    "# plot_pop_matrix(init_site_value, title=\"Initial Site Values\")"
   ]
  },
  {
   "cell_type": "code",
   "execution_count": null,
   "id": "3",
   "metadata": {},
   "outputs": [],
   "source": [
    "# parameter container (estimagic likes DataFrames with metadata)\n",
    "T = 100\n",
    "par = dict(beta=0.95, tau=0, c=10, kappa=0.02, delta_B=0.1, w=0.01, T=T)\n",
    "\n",
    "params = np.zeros(T)  # start for U*"
   ]
  },
  {
   "cell_type": "code",
   "execution_count": null,
   "id": "4",
   "metadata": {},
   "outputs": [],
   "source": [
    "def criterion(params):\n",
    "    # p is a DataFrame like params\n",
    "    res = equilibrium_residuals(\n",
    "        U=params, n0=init_pop, B0=np.zeros_like(init_pop), par=par\n",
    "    )\n",
    "    return (res**2).sum()\n",
    "\n",
    "\n",
    "result_U = om.minimize(\n",
    "    fun=criterion,\n",
    "    params=params,\n",
    "    algorithm=\"scipy_bfgs\",\n",
    ")"
   ]
  },
  {
   "cell_type": "code",
   "execution_count": null,
   "id": "5",
   "metadata": {},
   "outputs": [],
   "source": [
    "print(result_U)\n",
    "print(result_U.params)"
   ]
  },
  {
   "cell_type": "code",
   "execution_count": null,
   "id": "6",
   "metadata": {},
   "outputs": [],
   "source": [
    "paths = simulate_from_U(\n",
    "    result_U.params, n0=init_pop, B0=np.zeros_like(init_pop), par=par\n",
    ")\n",
    "stats = summarize_paths(paths)\n",
    "plot_series(stats)\n",
    "plot_population_heatmap(paths[\"n\"], t=99, title=\"Population In Equilibrium\")"
   ]
  }
 ],
 "metadata": {
  "language_info": {
   "codemirror_mode": {
    "name": "ipython",
    "version": 3
   },
   "file_extension": ".py",
   "mimetype": "text/x-python",
   "name": "python",
   "nbconvert_exporter": "python",
   "pygments_lexer": "ipython3"
  }
 },
 "nbformat": 4,
 "nbformat_minor": 5
}
