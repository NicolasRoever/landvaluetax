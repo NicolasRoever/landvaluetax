{
 "cells": [
  {
   "cell_type": "code",
   "execution_count": null,
   "id": "0",
   "metadata": {},
   "outputs": [],
   "source": [
    "import optimagic as om\n",
    "import numpy as np\n",
    "import pandas as pd\n",
    "import matplotlib.pyplot as plt\n",
    "import matplotlib as mpl\n",
    "from model import *\n",
    "import pdb\n"
   ]
  },
  {
   "cell_type": "code",
   "execution_count": null,
   "id": "1",
   "metadata": {},
   "outputs": [],
   "source": [
    "# -----------------------\n",
    "# 1. Parameters\n",
    "# -----------------------\n",
    "\n",
    "parameters = {\n",
    "    'beta': 1,\n",
    "    'capex': 0.8,          \n",
    "    'kappa': 0.0,\n",
    "    'delta': 0.1,          # depreciation rate\n",
    "    'wage': 1.0,           # exogenous wage\n",
    "    'G' : 10, \n",
    "    'tau': 0} # Land Value Tax rate\n"
   ]
  },
  {
   "cell_type": "code",
   "execution_count": null,
   "id": "2",
   "metadata": {},
   "outputs": [],
   "source": [
    "init_pop = init_population_matrix(shape=(parameters['G'], parameters['G']), seed=42)\n",
    "init_site_value = calculate_site_values(init_pop)\n",
    "plot_pop_matrix(init_pop, title=\"Initial Population Distribution\")\n",
    "#plot_pop_matrix(init_site_value, title=\"Initial Site Values\")"
   ]
  },
  {
   "cell_type": "code",
   "execution_count": null,
   "id": "3",
   "metadata": {},
   "outputs": [],
   "source": [
    "built_matrix, people_matrix, rent_matrix, site_values = find_equilibrium(\n",
    "    parameters=parameters,\n",
    "    init_site_value=init_site_value\n",
    ")"
   ]
  },
  {
   "cell_type": "code",
   "execution_count": null,
   "id": "4",
   "metadata": {},
   "outputs": [],
   "source": [
    "#Plot: \n",
    "plot_pop_matrix(built_matrix, title=\"Built Matrix\")\n",
    "plot_pop_matrix(people_matrix, title=\"People Matrix\")\n",
    "plot_pop_matrix(rent_matrix, title=\"Rent Matrix\")\n",
    "plot_pop_matrix(site_values, title=\"Site Values\")"
   ]
  },
  {
   "cell_type": "code",
   "execution_count": null,
   "id": "5",
   "metadata": {},
   "outputs": [],
   "source": [
    "print(rent_matrix)"
   ]
  },
  {
   "cell_type": "code",
   "execution_count": null,
   "id": "6",
   "metadata": {},
   "outputs": [],
   "source": [
    "for i in np.arange(1, -0.01, -0.1):\n",
    "\n",
    "    parameters[\"tau\"] = i\n",
    "    built_matrix, people_matrix, rent_matrix, site_values = find_equilibrium(\n",
    "        parameters=parameters,\n",
    "        init_site_value=init_site_value\n",
    "    )\n",
    "    print(f\"Delta: {i}, Builldings: {built_matrix.sum()}\")"
   ]
  },
  {
   "cell_type": "code",
   "execution_count": null,
   "id": "7",
   "metadata": {},
   "outputs": [],
   "source": [
    "#Plot: \n",
    "\n",
    "plot_pop_matrix(built_matrix, title=\"Built Matrix\")\n",
    "plot_pop_matrix(people_matrix, title=\"People Matrix\")\n",
    "plot_pop_matrix(rent_matrix, title=\"Rent Matrix\")\n",
    "plot_pop_matrix(site_values, title=\"Site Values\")"
   ]
  },
  {
   "cell_type": "code",
   "execution_count": null,
   "id": "8",
   "metadata": {},
   "outputs": [],
   "source": []
  }
 ],
 "metadata": {
  "language_info": {
   "codemirror_mode": {
    "name": "ipython",
    "version": 3
   },
   "file_extension": ".py",
   "mimetype": "text/x-python",
   "name": "python",
   "nbconvert_exporter": "python",
   "pygments_lexer": "ipython3"
  }
 },
 "nbformat": 4,
 "nbformat_minor": 5
}
