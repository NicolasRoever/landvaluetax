{
 "cells": [
  {
   "cell_type": "code",
   "execution_count": null,
   "id": "0",
   "metadata": {},
   "outputs": [],
   "source": [
    "import matplotlib.pyplot as plt\n",
    "import numpy as np\n",
    "from model import *"
   ]
  },
  {
   "cell_type": "code",
   "execution_count": null,
   "id": "1",
   "metadata": {},
   "outputs": [],
   "source": [
    "# Run model\n",
    "grid_size = 10\n",
    "n_grid = random_grid_inhabitants()\n",
    "S_grid = np.zeros_like(n_grid)\n",
    "for i in range(grid_size):\n",
    "    for j in range(grid_size):\n",
    "        S_grid[i, j] = n_grid[i, j] + 0.5 * neighbor_avg(n_grid, i, j)\n",
    "r_grid = rents_benchmark_case(n_grid, S_grid)"
   ]
  },
  {
   "cell_type": "code",
   "execution_count": null,
   "id": "2",
   "metadata": {},
   "outputs": [],
   "source": [
    "fig, axes = plt.subplots(1, 2, figsize=(12, 5))\n",
    "\n",
    "im0 = axes[0].imshow(n_grid)\n",
    "axes[0].set_title(\"Population Mass per Cell\")\n",
    "fig.colorbar(im0, ax=axes[0])\n",
    "axes[0].set_xticks(range(grid_size))\n",
    "axes[0].set_yticks(range(grid_size))\n",
    "\n",
    "im1 = axes[1].imshow(r_grid)\n",
    "axes[1].set_title(\"Equilibrium Rent per Cell\")\n",
    "fig.colorbar(im1, ax=axes[1])\n",
    "axes[1].set_xticks(range(grid_size))\n",
    "axes[1].set_yticks(range(grid_size))\n",
    "\n",
    "plt.tight_layout()\n",
    "plt.show()"
   ]
  }
 ],
 "metadata": {
  "language_info": {
   "codemirror_mode": {
    "name": "ipython",
    "version": 3
   },
   "file_extension": ".py",
   "mimetype": "text/x-python",
   "name": "python",
   "nbconvert_exporter": "python",
   "pygments_lexer": "ipython3"
  }
 },
 "nbformat": 4,
 "nbformat_minor": 5
}
